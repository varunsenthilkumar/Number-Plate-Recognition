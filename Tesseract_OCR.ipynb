{
  "nbformat": 4,
  "nbformat_minor": 0,
  "metadata": {
    "colab": {
      "name": "Untitled5.ipynb",
      "version": "0.3.2",
      "provenance": []
    },
    "kernelspec": {
      "name": "python3",
      "display_name": "Python 3"
    }
  },
  "cells": [
    {
      "cell_type": "code",
      "metadata": {
        "id": "HqBxf-GkPhqV",
        "colab_type": "code",
        "colab": {}
      },
      "source": [
        "import io\n",
        "from PIL import Image\n",
        "import pytesseract"
      ],
      "execution_count": 0,
      "outputs": []
    },
    {
      "cell_type": "code",
      "metadata": {
        "id": "pley7CA0Pqhe",
        "colab_type": "code",
        "colab": {}
      },
      "source": [
        "imageBlobs = []\n",
        "\n",
        "for img in pdfImage.sequence:\n",
        "\timgPage = wi(image = img)\n",
        "\timageBlobs.append(imgPage.make_blob('png'))\n",
        "\n",
        "recognized_text = []\n",
        "\n",
        "for imgBlob in imageBlobs:\n",
        "\tim = Image.open(io.BytesIO(imgBlob))\n",
        "\ttext = pytesseract.image_to_string(im, lang = 'eng')\n",
        "\trecognized_text.append(text)\n",
        "\n",
        "print(recognized_text)"
      ],
      "execution_count": 0,
      "outputs": []
    },
    {
      "cell_type": "code",
      "metadata": {
        "id": "Q_iaEvYgPqV9",
        "colab_type": "code",
        "colab": {}
      },
      "source": [
        ""
      ],
      "execution_count": 0,
      "outputs": []
    }
  ]
}