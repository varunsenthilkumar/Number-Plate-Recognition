{
  "nbformat": 4,
  "nbformat_minor": 0,
  "metadata": {
    "colab": {
      "name": "Untitled3.ipynb",
      "version": "0.3.2",
      "provenance": []
    },
    "kernelspec": {
      "name": "python3",
      "display_name": "Python 3"
    }
  },
  "cells": [
    {
      "cell_type": "code",
      "metadata": {
        "id": "5JI4ttkNK7Te",
        "colab_type": "code",
        "colab": {}
      },
      "source": [
        "from keras.models import Sequential\n",
        "from keras.layers import Dense\n",
        "from keras.layers.convolutional import Conv2D\n",
        "from keras.layers.convolutional import MaxPooling2D\n",
        "from PIL import Image # Image Pre-Processing"
      ],
      "execution_count": 0,
      "outputs": []
    },
    {
      "cell_type": "code",
      "metadata": {
        "id": "Cabi4UbdMBBd",
        "colab_type": "code",
        "colab": {}
      },
      "source": [
        "path1 = 'dataset'\n",
        "path2 = 'Processed_Images'\n",
        "files = os.listdir(path1)\n",
        "num_samples = len(files)\n",
        "num_samples"
      ],
      "execution_count": 0,
      "outputs": []
    },
    {
      "cell_type": "code",
      "metadata": {
        "id": "Jdu1JOo9Mchj",
        "colab_type": "code",
        "colab": {}
      },
      "source": [
        "rows = 400\n",
        "cols = 600\n",
        "for file in files:\n",
        "    im = Image.open(path1+'/'+file)\n",
        "    img = im.resize((cols,rows))\n",
        "    gray = img.convert('L') #converts rgb to gray\n",
        "    gray.save(path2+'/'+file,'JPEG')\n",
        "files2 = os.listdir(path2)\n",
        "len(files2)"
      ],
      "execution_count": 0,
      "outputs": []
    },
    {
      "cell_type": "code",
      "metadata": {
        "id": "NalexJyEM5LA",
        "colab_type": "code",
        "colab": {}
      },
      "source": [
        "from keras import optimizers\n",
        "model = Sequential()\n",
        "\n",
        "model.add(Conv2D(32,(3,3),input_shape=(rows,cols,1),padding='same',activation='relu'))\n",
        "model.add(MaxPooling2D(pool_size=(2,2))) \n",
        "\n",
        "model.add(Conv2D(32,(9,9),padding='same',activation='relu'))\n",
        "model.add(MaxPooling2D(pool_size=(2,2))) \n",
        "\n",
        "model.add(Conv2D(32,(9,9),padding='same',activation='relu'))\n",
        "model.add(MaxPooling2D(pool_size=(2,2))) \n",
        "\n",
        "model.add(Dense(num_classes, kernel_initializer='normal', activation='sigmoid'))\n"
      ],
      "execution_count": 0,
      "outputs": []
    }
  ]
}