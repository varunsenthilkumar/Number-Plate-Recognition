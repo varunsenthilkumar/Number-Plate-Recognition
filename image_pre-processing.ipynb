{
  "nbformat": 4,
  "nbformat_minor": 0,
  "metadata": {
    "colab": {
      "name": "Untitled7.ipynb",
      "version": "0.3.2",
      "provenance": []
    },
    "kernelspec": {
      "name": "python3",
      "display_name": "Python 3"
    }
  },
  "cells": [
    {
      "cell_type": "code",
      "metadata": {
        "id": "FJqkxU3bm8Ea",
        "colab_type": "code",
        "colab": {}
      },
      "source": [
        "import cv2\n",
        "import numpy as np\n",
        "import math"
      ],
      "execution_count": 0,
      "outputs": []
    },
    {
      "cell_type": "code",
      "metadata": {
        "id": "CySY3P4Im_X8",
        "colab_type": "code",
        "colab": {}
      },
      "source": [
        "GAUSSIAN_SMOOTH_FILTER_SIZE = (5, 5)\n",
        "ADAPTIVE_THRESH_BLOCK_SIZE = 19\n",
        "ADAPTIVE_THRESH_WEIGHT = 9"
      ],
      "execution_count": 0,
      "outputs": []
    },
    {
      "cell_type": "code",
      "metadata": {
        "id": "_klkVLrznFuK",
        "colab_type": "code",
        "colab": {}
      },
      "source": [
        "def preprocess(imgOriginal):\n",
        "    imgGrayscale = extractValue(imgOriginal)\n",
        "\n",
        "    imgMaxContrastGrayscale = maximizeContrast(imgGrayscale)\n",
        "\n",
        "    height, width = imgGrayscale.shape\n",
        "\n",
        "    imgBlurred = np.zeros((height, width, 1), np.uint8)\n",
        "\n",
        "    imgBlurred = cv2.GaussianBlur(imgMaxContrastGrayscale, GAUSSIAN_SMOOTH_FILTER_SIZE, 0)\n",
        "\n",
        "    imgThresh = cv2.adaptiveThreshold(imgBlurred, 255.0, cv2.ADAPTIVE_THRESH_GAUSSIAN_C, cv2.THRESH_BINARY_INV, ADAPTIVE_THRESH_BLOCK_SIZE, ADAPTIVE_THRESH_WEIGHT)\n",
        "\n",
        "    return imgGrayscale, imgThresh"
      ],
      "execution_count": 0,
      "outputs": []
    },
    {
      "cell_type": "code",
      "metadata": {
        "id": "CcS7gk58nG5-",
        "colab_type": "code",
        "colab": {}
      },
      "source": [
        "def extractValue(imgOriginal):\n",
        "    height, width, numChannels = imgOriginal.shape\n",
        "\n",
        "    imgHSV = np.zeros((height, width, 3), np.uint8)\n",
        "\n",
        "    imgHSV = cv2.cvtColor(imgOriginal, cv2.COLOR_BGR2HSV)\n",
        "\n",
        "    imgHue, imgSaturation, imgValue = cv2.split(imgHSV)\n",
        "\n",
        "    return imgValue"
      ],
      "execution_count": 0,
      "outputs": []
    },
    {
      "cell_type": "code",
      "metadata": {
        "id": "NLLLOdpsnN6m",
        "colab_type": "code",
        "colab": {}
      },
      "source": [
        "def maximizeContrast(imgGrayscale):\n",
        "\n",
        "    height, width = imgGrayscale.shape\n",
        "\n",
        "    imgTopHat = np.zeros((height, width, 1), np.uint8)\n",
        "    imgBlackHat = np.zeros((height, width, 1), np.uint8)\n",
        "\n",
        "    structuringElement = cv2.getStructuringElement(cv2.MORPH_RECT, (3, 3))\n",
        "\n",
        "    imgTopHat = cv2.morphologyEx(imgGrayscale, cv2.MORPH_TOPHAT, structuringElement)\n",
        "    imgBlackHat = cv2.morphologyEx(imgGrayscale, cv2.MORPH_BLACKHAT, structuringElement)\n",
        "\n",
        "    imgGrayscalePlusTopHat = cv2.add(imgGrayscale, imgTopHat)\n",
        "    imgGrayscalePlusTopHatMinusBlackHat = cv2.subtract(imgGrayscalePlusTopHat, imgBlackHat)\n",
        "\n",
        "    return imgGrayscalePlusTopHatMinusBlackHat"
      ],
      "execution_count": 0,
      "outputs": []
    }
  ]
}